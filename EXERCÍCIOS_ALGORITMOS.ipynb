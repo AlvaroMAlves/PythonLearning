{
  "nbformat": 4,
  "nbformat_minor": 0,
  "metadata": {
    "colab": {
      "provenance": [],
      "authorship_tag": "ABX9TyP3VaulC/+G9EYksZmy7hDc",
      "include_colab_link": true
    },
    "kernelspec": {
      "name": "python3",
      "display_name": "Python 3"
    },
    "language_info": {
      "name": "python"
    }
  },
  "cells": [
    {
      "cell_type": "markdown",
      "metadata": {
        "id": "view-in-github",
        "colab_type": "text"
      },
      "source": [
        "<a href=\"https://colab.research.google.com/github/AlvaroMAlves/PythonLearning/blob/main/EXERC%C3%8DCIOS_ALGORITMOS.ipynb\" target=\"_parent\"><img src=\"https://colab.research.google.com/assets/colab-badge.svg\" alt=\"Open In Colab\"/></a>"
      ]
    },
    {
      "cell_type": "markdown",
      "source": [
        "Este é um exercício inicial de vetores, feito na aula de Algoritmos e Lógica de Programação, na FATEC de Botucatu por Alvaro Martins Alves, no dia 01/10/2022, em que deveríamos fazer um programa que demonstrasse um boletim dos alunos:"
      ],
      "metadata": {
        "id": "dp5mromw_9OP"
      }
    },
    {
      "cell_type": "code",
      "execution_count": null,
      "metadata": {
        "id": "7B879Vae8A8y"
      },
      "outputs": [],
      "source": [
        "nome_alunos = []\n",
        "nota_p1 = []\n",
        "nota_p2 = []\n",
        "i=0\n",
        "for i in range(5):\n",
        "  nome_alunos.append(input(\"Digite o nome do aluno: \"))\n",
        "  nota_p1.append(float(input(\"Digite a p1: \")))\n",
        "  nota_p2.append(float(input(\"Digite a p2: \")))\n",
        "for j in range(5):\n",
        "  print(\"\\nNome: \", nome_alunos[j])\n",
        "  print(\"Nota p1: \", nota_p1[j])\n",
        "  print(\"Nota p2: \", nota_p2[j])\n",
        "  print(\"Média: \", (nota_p1[j]+nota_p2[j])/2)\n",
        "  if (nota_p1[j] + nota_p2[j])/2>=6:\n",
        "    print(\"Aluno APROVADO!\\n\")\n",
        "  else:\n",
        "    print(\"Aluno REPROVADO!\\n\")"
      ]
    },
    {
      "cell_type": "markdown",
      "source": [
        "No exercício abaixo, o usuário deve digitar 250 números, que serão armazenados, e o programa deverá dizer em que posição há números iguais a 14:"
      ],
      "metadata": {
        "id": "McMnC1BjkQgs"
      }
    },
    {
      "cell_type": "code",
      "source": [
        "vetor_armazenador = []\n",
        "vetor_posicao = []\n",
        "x = int(input(\"digite o número de posições numéricas: \"))\n",
        "while x < 1:\n",
        "  int(input(\"Número inválido! Digite novamente: \"))\n",
        "i=0\n",
        "for i in range(x):\n",
        "  vetor_armazenador.append(float(input(\"\\nDigite um número: \")))\n",
        "  if vetor_armazenador[i] == 14:\n",
        "    vetor_posicao.append(i+1)\n",
        "if len(vetor_posicao) == 0:\n",
        "  print(\"\\nNão há nenhuma posição com valor igual a 14!\")\n",
        "else:\n",
        "  print(\"\\nAs posições que possuem valor igual a 14 são: \", vetor_posicao)"
      ],
      "metadata": {
        "id": "itZuxmhvkl4L"
      },
      "execution_count": null,
      "outputs": []
    },
    {
      "cell_type": "markdown",
      "source": [
        "Neste exercício, é preciso somar todos os elementos de uma matriz quadrada:"
      ],
      "metadata": {
        "id": "HskUcR-o6-mu"
      }
    },
    {
      "cell_type": "code",
      "source": [
        "matriz = []\n",
        "linhas = []\n",
        "x = int(input(\"Digite a dimensão da matriz quadrada: \"))\n",
        "\n",
        "# consistência da dimensão da matriz (x > 1):\n",
        "while x < 1:\n",
        "  int(input(\"Número inválido! Digite novamente: \"))\n",
        "\n",
        "# acumulador para a soma:\n",
        "soma = 0\n",
        "\n",
        "# loop para completar a matriz:\n",
        "i = 0\n",
        "j = 0\n",
        "for i in range(x-1):\n",
        "  for j in range(x-1):\n",
        "    matriz[i].append(float(input(\"Digite o valor da posição A: \")))\n",
        "    soma = soma + matriz[i][j]\n",
        "  \n",
        "print(\"A soma dos números da matriz é:\", soma)"
      ],
      "metadata": {
        "colab": {
          "base_uri": "https://localhost:8080/",
          "height": 252
        },
        "id": "zqMC0hUJ7Lzl",
        "outputId": "c1ac73dd-8153-4534-92da-51fd960c5484"
      },
      "execution_count": null,
      "outputs": [
        {
          "name": "stdout",
          "output_type": "stream",
          "text": [
            "Digite a dimensão da matriz quadrada: 3\n"
          ]
        },
        {
          "output_type": "error",
          "ename": "IndexError",
          "evalue": "ignored",
          "traceback": [
            "\u001b[0;31m---------------------------------------------------------------------------\u001b[0m",
            "\u001b[0;31mIndexError\u001b[0m                                Traceback (most recent call last)",
            "\u001b[0;32m<ipython-input-15-4f3f3c9278aa>\u001b[0m in \u001b[0;36m<module>\u001b[0;34m\u001b[0m\n\u001b[1;32m     15\u001b[0m \u001b[0;32mfor\u001b[0m \u001b[0mi\u001b[0m \u001b[0;32min\u001b[0m \u001b[0mrange\u001b[0m\u001b[0;34m(\u001b[0m\u001b[0mx\u001b[0m\u001b[0;34m-\u001b[0m\u001b[0;36m1\u001b[0m\u001b[0;34m)\u001b[0m\u001b[0;34m:\u001b[0m\u001b[0;34m\u001b[0m\u001b[0;34m\u001b[0m\u001b[0m\n\u001b[1;32m     16\u001b[0m   \u001b[0;32mfor\u001b[0m \u001b[0mj\u001b[0m \u001b[0;32min\u001b[0m \u001b[0mrange\u001b[0m\u001b[0;34m(\u001b[0m\u001b[0mx\u001b[0m\u001b[0;34m-\u001b[0m\u001b[0;36m1\u001b[0m\u001b[0;34m)\u001b[0m\u001b[0;34m:\u001b[0m\u001b[0;34m\u001b[0m\u001b[0;34m\u001b[0m\u001b[0m\n\u001b[0;32m---> 17\u001b[0;31m     \u001b[0mmatriz\u001b[0m\u001b[0;34m[\u001b[0m\u001b[0mi\u001b[0m\u001b[0;34m]\u001b[0m\u001b[0;34m.\u001b[0m\u001b[0mappend\u001b[0m\u001b[0;34m(\u001b[0m\u001b[0mfloat\u001b[0m\u001b[0;34m(\u001b[0m\u001b[0minput\u001b[0m\u001b[0;34m(\u001b[0m\u001b[0;34m\"Digite o valor da posição A1: \"\u001b[0m\u001b[0;34m)\u001b[0m\u001b[0;34m)\u001b[0m\u001b[0;34m)\u001b[0m\u001b[0;34m\u001b[0m\u001b[0;34m\u001b[0m\u001b[0m\n\u001b[0m\u001b[1;32m     18\u001b[0m     \u001b[0msoma\u001b[0m \u001b[0;34m=\u001b[0m \u001b[0msoma\u001b[0m \u001b[0;34m+\u001b[0m \u001b[0mmatriz\u001b[0m\u001b[0;34m[\u001b[0m\u001b[0mi\u001b[0m\u001b[0;34m]\u001b[0m\u001b[0;34m[\u001b[0m\u001b[0mj\u001b[0m\u001b[0;34m]\u001b[0m\u001b[0;34m\u001b[0m\u001b[0;34m\u001b[0m\u001b[0m\n\u001b[1;32m     19\u001b[0m \u001b[0;34m\u001b[0m\u001b[0m\n",
            "\u001b[0;31mIndexError\u001b[0m: list index out of range"
          ]
        }
      ]
    },
    {
      "cell_type": "code",
      "source": [
        "matriz = []\n",
        "matriz"
      ],
      "metadata": {
        "id": "yz0jZ70HEk6O"
      },
      "execution_count": null,
      "outputs": []
    }
  ]
}